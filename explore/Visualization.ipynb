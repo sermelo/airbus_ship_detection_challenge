{
 "cells": [
  {
   "cell_type": "markdown",
   "metadata": {},
   "source": [
    "## Define libraries"
   ]
  },
  {
   "cell_type": "code",
   "execution_count": null,
   "metadata": {},
   "outputs": [],
   "source": [
    "import matplotlib.pyplot as plt\n",
    "import pandas as pd\n",
    "import numpy as np\n",
    "from skimage import io"
   ]
  },
  {
   "cell_type": "markdown",
   "metadata": {},
   "source": [
    "## Define paths"
   ]
  },
  {
   "cell_type": "code",
   "execution_count": null,
   "metadata": {},
   "outputs": [],
   "source": [
    "DATA_PATH = '../..'\n",
    "TRAINING_CSV = f'{DATA_PATH}/train_ship_segmentations_v2.csv'\n",
    "IMAGES_PATH = f'{DATA_PATH}/train_v2/'"
   ]
  },
  {
   "cell_type": "markdown",
   "metadata": {},
   "source": [
    "## Visualize images"
   ]
  },
  {
   "cell_type": "code",
   "execution_count": null,
   "metadata": {},
   "outputs": [],
   "source": [
    "data = pd.read_csv(TRAINING_CSV)\n",
    "print(data.shape)\n",
    "data.head()"
   ]
  },
  {
   "cell_type": "code",
   "execution_count": null,
   "metadata": {},
   "outputs": [],
   "source": [
    "def draw_area(image, encoded_pixels):\n",
    "    encoded_pixels_list = encoded_pixels.split(' ')\n",
    "    for i in range(0,len(encoded_pixels_list),2):\n",
    "        start_pixel = int(encoded_pixels_list[i])\n",
    "        end_pixel = start_pixel + int(encoded_pixels_list[i+1])\n",
    "        for pixel in range(start_pixel, end_pixel):\n",
    "            row = int(np.floor(int(pixel)/image.shape[0]))\n",
    "            column = int(pixel - (image.shape[0] * row))\n",
    "            image[column][row][0] = 255\n",
    "\n",
    "def show_image(image_name, encoded_pixels):\n",
    "    image = io.imread(f'{IMAGES_PATH}/{image_name}')\n",
    "\n",
    "    if not isinstance(encoded_pixels, float):\n",
    "        draw_area(image, encoded_pixels)\n",
    "\n",
    "    fig = plt.figure(figsize = (15,15)) # create a 5 x 5 figure \n",
    "    ax = fig.add_subplot(111)\n",
    "    ax.imshow(image, interpolation='none')\n",
    "    plt.show()    "
   ]
  },
  {
   "cell_type": "code",
   "execution_count": null,
   "metadata": {},
   "outputs": [],
   "source": [
    "row = data.iloc[854]\n",
    "show_image(row['ImageId'], row['EncodedPixels'])"
   ]
  },
  {
   "cell_type": "code",
   "execution_count": null,
   "metadata": {},
   "outputs": [],
   "source": []
  }
 ],
 "metadata": {
  "kernelspec": {
   "display_name": "Python 3",
   "language": "python",
   "name": "python3"
  },
  "language_info": {
   "codemirror_mode": {
    "name": "ipython",
    "version": 3
   },
   "file_extension": ".py",
   "mimetype": "text/x-python",
   "name": "python",
   "nbconvert_exporter": "python",
   "pygments_lexer": "ipython3",
   "version": "3.7.5"
  }
 },
 "nbformat": 4,
 "nbformat_minor": 2
}
